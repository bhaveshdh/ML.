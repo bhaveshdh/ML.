{
  "nbformat": 4,
  "nbformat_minor": 0,
  "metadata": {
    "colab": {
      "name": "student grade A+ or less in lstm.ipynb",
      "provenance": [],
      "collapsed_sections": []
    },
    "kernelspec": {
      "name": "python3",
      "display_name": "Python 3"
    },
    "language_info": {
      "name": "python"
    }
  },
  "cells": [
    {
      "cell_type": "code",
      "metadata": {
        "id": "km-RaPM8Zx6G"
      },
      "source": [
        "import numpy  # for no. calculations\n",
        "import matplotlib.pyplot as plt # for plotting the graph\n",
        "from pandas import read_csv # for reading the csv file\n",
        "import math\n",
        "from keras.models import Sequential # using sequential model from keras\n",
        "from keras.layers import Dense\n",
        "from keras.layers import LSTM # lstm is a layer where we will compute the things in faster way\n",
        "from sklearn.preprocessing import  MinMaxScaler # for preprocessing the data\n",
        "from sklearn.metrics import mean_squared_error\n"
      ],
      "execution_count": null,
      "outputs": []
    },
    {
      "cell_type": "code",
      "metadata": {
        "id": "Jbr9hK5pbNVa"
      },
      "source": [
        "numpy.random.seed(4)\n",
        "#load the dataset\n",
        "dataframe = read_csv('grade.csv',usecols=[1],engine='python')\n",
        "dataset=dataframe.values\n",
        "dataset=dataset.astype('float32')"
      ],
      "execution_count": null,
      "outputs": []
    },
    {
      "cell_type": "code",
      "metadata": {
        "id": "BKcxTTdydJtq"
      },
      "source": [
        "def create_dataset(dataset,look_back=1):\n",
        "  dataX, dataY=[],[]  # for plotting the graph between  x and y \n",
        "  for i in range(len(dataset)-look_back-1):\n",
        "     a= dataset[i:(i+look_back),0]\n",
        "     dataX.append(a)\n",
        "     dataY.append(dataset[i+look_back,0])\n",
        "  return numpy.array(dataX),numpy.array(dataY) # converting to numpy array "
      ],
      "execution_count": null,
      "outputs": []
    },
    {
      "cell_type": "code",
      "metadata": {
        "id": "gXsMPRzHhea0"
      },
      "source": [
        "#normalize the dataset\n",
        "scalar = MinMaxScaler(feature_range=(0,1))\n",
        "dataset = scalar.fit_transform(dataset)\n",
        "train_size=int(len(dataset)*0.70)\n",
        "test_size=len(dataset)-train_size\n",
        "train,test=dataset[0:train_size,:],dataset[train_size:len(dataset),:]\n",
        "\n",
        "#reshape into x=t and y=t+1\n",
        "look_back=1\n",
        "trainX, trainY = create_dataset(train, look_back)\n",
        "testX, testY  = create_dataset(test, look_back)\n",
        "\n",
        "#reshape input to be[sample,timesteps,features]\n",
        "\n",
        "trainX =numpy.reshape(trainX,(trainX.shape[0],1,trainX.shape[1]))\n",
        "testX= numpy.reshape(testX, (testX.shape[0], 1,testX.shape[1]))"
      ],
      "execution_count": null,
      "outputs": []
    },
    {
      "cell_type": "code",
      "metadata": {
        "colab": {
          "base_uri": "https://localhost:8080/"
        },
        "id": "Ce4cSR1wkjpA",
        "outputId": "0dbde192-fe6e-441b-e150-994ab95a4bab"
      },
      "source": [
        "model=Sequential()\n",
        "model.add(LSTM(2,input_shape=(1,look_back)))\n",
        "model.add(Dense(1))\n",
        "model.compile(loss='mean_squared_error',optimizer='adam')\n",
        "model.fit(trainX, trainY, epochs=100, batch_size=1,verbose=2)"
      ],
      "execution_count": null,
      "outputs": [
        {
          "output_type": "stream",
          "name": "stdout",
          "text": [
            "Epoch 1/100\n",
            "2/2 - 1s - loss: 0.5086 - 1s/epoch - 720ms/step\n",
            "Epoch 2/100\n",
            "2/2 - 0s - loss: 0.5075 - 5ms/epoch - 2ms/step\n",
            "Epoch 3/100\n",
            "2/2 - 0s - loss: 0.5048 - 8ms/epoch - 4ms/step\n",
            "Epoch 4/100\n",
            "2/2 - 0s - loss: 0.5031 - 7ms/epoch - 4ms/step\n",
            "Epoch 5/100\n",
            "2/2 - 0s - loss: 0.5023 - 5ms/epoch - 3ms/step\n",
            "Epoch 6/100\n",
            "2/2 - 0s - loss: 0.4996 - 8ms/epoch - 4ms/step\n",
            "Epoch 7/100\n",
            "2/2 - 0s - loss: 0.4987 - 5ms/epoch - 3ms/step\n",
            "Epoch 8/100\n",
            "2/2 - 0s - loss: 0.4969 - 6ms/epoch - 3ms/step\n",
            "Epoch 9/100\n",
            "2/2 - 0s - loss: 0.4951 - 5ms/epoch - 3ms/step\n",
            "Epoch 10/100\n",
            "2/2 - 0s - loss: 0.4933 - 10ms/epoch - 5ms/step\n",
            "Epoch 11/100\n",
            "2/2 - 0s - loss: 0.4908 - 9ms/epoch - 4ms/step\n",
            "Epoch 12/100\n",
            "2/2 - 0s - loss: 0.4892 - 8ms/epoch - 4ms/step\n",
            "Epoch 13/100\n",
            "2/2 - 0s - loss: 0.4875 - 9ms/epoch - 5ms/step\n",
            "Epoch 14/100\n",
            "2/2 - 0s - loss: 0.4867 - 9ms/epoch - 4ms/step\n",
            "Epoch 15/100\n",
            "2/2 - 0s - loss: 0.4841 - 5ms/epoch - 2ms/step\n",
            "Epoch 16/100\n",
            "2/2 - 0s - loss: 0.4825 - 8ms/epoch - 4ms/step\n",
            "Epoch 17/100\n",
            "2/2 - 0s - loss: 0.4809 - 9ms/epoch - 5ms/step\n",
            "Epoch 18/100\n",
            "2/2 - 0s - loss: 0.4792 - 10ms/epoch - 5ms/step\n",
            "Epoch 19/100\n",
            "2/2 - 0s - loss: 0.4784 - 6ms/epoch - 3ms/step\n",
            "Epoch 20/100\n",
            "2/2 - 0s - loss: 0.4758 - 6ms/epoch - 3ms/step\n",
            "Epoch 21/100\n",
            "2/2 - 0s - loss: 0.4742 - 5ms/epoch - 3ms/step\n",
            "Epoch 22/100\n",
            "2/2 - 0s - loss: 0.4734 - 11ms/epoch - 5ms/step\n",
            "Epoch 23/100\n",
            "2/2 - 0s - loss: 0.4709 - 10ms/epoch - 5ms/step\n",
            "Epoch 24/100\n",
            "2/2 - 0s - loss: 0.4693 - 14ms/epoch - 7ms/step\n",
            "Epoch 25/100\n",
            "2/2 - 0s - loss: 0.4677 - 10ms/epoch - 5ms/step\n",
            "Epoch 26/100\n",
            "2/2 - 0s - loss: 0.4660 - 5ms/epoch - 2ms/step\n",
            "Epoch 27/100\n",
            "2/2 - 0s - loss: 0.4644 - 9ms/epoch - 4ms/step\n",
            "Epoch 28/100\n",
            "2/2 - 0s - loss: 0.4637 - 8ms/epoch - 4ms/step\n",
            "Epoch 29/100\n",
            "2/2 - 0s - loss: 0.4611 - 9ms/epoch - 4ms/step\n",
            "Epoch 30/100\n",
            "2/2 - 0s - loss: 0.4595 - 10ms/epoch - 5ms/step\n",
            "Epoch 31/100\n",
            "2/2 - 0s - loss: 0.4579 - 7ms/epoch - 4ms/step\n",
            "Epoch 32/100\n",
            "2/2 - 0s - loss: 0.4563 - 9ms/epoch - 5ms/step\n",
            "Epoch 33/100\n",
            "2/2 - 0s - loss: 0.4547 - 6ms/epoch - 3ms/step\n",
            "Epoch 34/100\n",
            "2/2 - 0s - loss: 0.4531 - 8ms/epoch - 4ms/step\n",
            "Epoch 35/100\n",
            "2/2 - 0s - loss: 0.4524 - 13ms/epoch - 7ms/step\n",
            "Epoch 36/100\n",
            "2/2 - 0s - loss: 0.4506 - 7ms/epoch - 3ms/step\n",
            "Epoch 37/100\n",
            "2/2 - 0s - loss: 0.4489 - 11ms/epoch - 6ms/step\n",
            "Epoch 38/100\n",
            "2/2 - 0s - loss: 0.4472 - 10ms/epoch - 5ms/step\n",
            "Epoch 39/100\n",
            "2/2 - 0s - loss: 0.4448 - 8ms/epoch - 4ms/step\n",
            "Epoch 40/100\n",
            "2/2 - 0s - loss: 0.4433 - 5ms/epoch - 2ms/step\n",
            "Epoch 41/100\n",
            "2/2 - 0s - loss: 0.4426 - 10ms/epoch - 5ms/step\n",
            "Epoch 42/100\n",
            "2/2 - 0s - loss: 0.4409 - 8ms/epoch - 4ms/step\n",
            "Epoch 43/100\n",
            "2/2 - 0s - loss: 0.4385 - 5ms/epoch - 3ms/step\n",
            "Epoch 44/100\n",
            "2/2 - 0s - loss: 0.4370 - 6ms/epoch - 3ms/step\n",
            "Epoch 45/100\n",
            "2/2 - 0s - loss: 0.4362 - 5ms/epoch - 2ms/step\n",
            "Epoch 46/100\n",
            "2/2 - 0s - loss: 0.4346 - 6ms/epoch - 3ms/step\n",
            "Epoch 47/100\n",
            "2/2 - 0s - loss: 0.4329 - 8ms/epoch - 4ms/step\n",
            "Epoch 48/100\n",
            "2/2 - 0s - loss: 0.4306 - 5ms/epoch - 3ms/step\n",
            "Epoch 49/100\n",
            "2/2 - 0s - loss: 0.4291 - 5ms/epoch - 3ms/step\n",
            "Epoch 50/100\n",
            "2/2 - 0s - loss: 0.4276 - 7ms/epoch - 4ms/step\n",
            "Epoch 51/100\n",
            "2/2 - 0s - loss: 0.4268 - 8ms/epoch - 4ms/step\n",
            "Epoch 52/100\n",
            "2/2 - 0s - loss: 0.4252 - 9ms/epoch - 5ms/step\n",
            "Epoch 53/100\n",
            "2/2 - 0s - loss: 0.4228 - 6ms/epoch - 3ms/step\n",
            "Epoch 54/100\n",
            "2/2 - 0s - loss: 0.4220 - 9ms/epoch - 4ms/step\n",
            "Epoch 55/100\n",
            "2/2 - 0s - loss: 0.4197 - 5ms/epoch - 3ms/step\n",
            "Epoch 56/100\n",
            "2/2 - 0s - loss: 0.4189 - 7ms/epoch - 4ms/step\n",
            "Epoch 57/100\n",
            "2/2 - 0s - loss: 0.4166 - 7ms/epoch - 4ms/step\n",
            "Epoch 58/100\n",
            "2/2 - 0s - loss: 0.4158 - 9ms/epoch - 4ms/step\n",
            "Epoch 59/100\n",
            "2/2 - 0s - loss: 0.4142 - 8ms/epoch - 4ms/step\n",
            "Epoch 60/100\n",
            "2/2 - 0s - loss: 0.4126 - 7ms/epoch - 4ms/step\n",
            "Epoch 61/100\n",
            "2/2 - 0s - loss: 0.4110 - 9ms/epoch - 4ms/step\n",
            "Epoch 62/100\n",
            "2/2 - 0s - loss: 0.4087 - 10ms/epoch - 5ms/step\n",
            "Epoch 63/100\n",
            "2/2 - 0s - loss: 0.4079 - 8ms/epoch - 4ms/step\n",
            "Epoch 64/100\n",
            "2/2 - 0s - loss: 0.4056 - 9ms/epoch - 5ms/step\n",
            "Epoch 65/100\n",
            "2/2 - 0s - loss: 0.4049 - 10ms/epoch - 5ms/step\n",
            "Epoch 66/100\n",
            "2/2 - 0s - loss: 0.4033 - 9ms/epoch - 4ms/step\n",
            "Epoch 67/100\n",
            "2/2 - 0s - loss: 0.4017 - 9ms/epoch - 5ms/step\n",
            "Epoch 68/100\n",
            "2/2 - 0s - loss: 0.4001 - 9ms/epoch - 4ms/step\n",
            "Epoch 69/100\n",
            "2/2 - 0s - loss: 0.3978 - 12ms/epoch - 6ms/step\n",
            "Epoch 70/100\n",
            "2/2 - 0s - loss: 0.3963 - 8ms/epoch - 4ms/step\n",
            "Epoch 71/100\n",
            "2/2 - 0s - loss: 0.3949 - 10ms/epoch - 5ms/step\n",
            "Epoch 72/100\n",
            "2/2 - 0s - loss: 0.3941 - 10ms/epoch - 5ms/step\n",
            "Epoch 73/100\n",
            "2/2 - 0s - loss: 0.3918 - 14ms/epoch - 7ms/step\n",
            "Epoch 74/100\n",
            "2/2 - 0s - loss: 0.3903 - 10ms/epoch - 5ms/step\n",
            "Epoch 75/100\n",
            "2/2 - 0s - loss: 0.3895 - 9ms/epoch - 4ms/step\n",
            "Epoch 76/100\n",
            "2/2 - 0s - loss: 0.3872 - 9ms/epoch - 4ms/step\n",
            "Epoch 77/100\n",
            "2/2 - 0s - loss: 0.3857 - 9ms/epoch - 4ms/step\n",
            "Epoch 78/100\n",
            "2/2 - 0s - loss: 0.3849 - 5ms/epoch - 3ms/step\n",
            "Epoch 79/100\n",
            "2/2 - 0s - loss: 0.3825 - 8ms/epoch - 4ms/step\n",
            "Epoch 80/100\n",
            "2/2 - 0s - loss: 0.3818 - 9ms/epoch - 4ms/step\n",
            "Epoch 81/100\n",
            "2/2 - 0s - loss: 0.3802 - 12ms/epoch - 6ms/step\n",
            "Epoch 82/100\n",
            "2/2 - 0s - loss: 0.3778 - 8ms/epoch - 4ms/step\n",
            "Epoch 83/100\n",
            "2/2 - 0s - loss: 0.3763 - 8ms/epoch - 4ms/step\n",
            "Epoch 84/100\n",
            "2/2 - 0s - loss: 0.3756 - 10ms/epoch - 5ms/step\n",
            "Epoch 85/100\n",
            "2/2 - 0s - loss: 0.3732 - 7ms/epoch - 4ms/step\n",
            "Epoch 86/100\n",
            "2/2 - 0s - loss: 0.3717 - 7ms/epoch - 4ms/step\n",
            "Epoch 87/100\n",
            "2/2 - 0s - loss: 0.3710 - 10ms/epoch - 5ms/step\n",
            "Epoch 88/100\n",
            "2/2 - 0s - loss: 0.3686 - 7ms/epoch - 4ms/step\n",
            "Epoch 89/100\n",
            "2/2 - 0s - loss: 0.3671 - 15ms/epoch - 8ms/step\n",
            "Epoch 90/100\n",
            "2/2 - 0s - loss: 0.3664 - 9ms/epoch - 4ms/step\n",
            "Epoch 91/100\n",
            "2/2 - 0s - loss: 0.3640 - 7ms/epoch - 4ms/step\n",
            "Epoch 92/100\n",
            "2/2 - 0s - loss: 0.3632 - 8ms/epoch - 4ms/step\n",
            "Epoch 93/100\n",
            "2/2 - 0s - loss: 0.3616 - 8ms/epoch - 4ms/step\n",
            "Epoch 94/100\n",
            "2/2 - 0s - loss: 0.3592 - 9ms/epoch - 4ms/step\n",
            "Epoch 95/100\n",
            "2/2 - 0s - loss: 0.3578 - 10ms/epoch - 5ms/step\n",
            "Epoch 96/100\n",
            "2/2 - 0s - loss: 0.3563 - 7ms/epoch - 3ms/step\n",
            "Epoch 97/100\n",
            "2/2 - 0s - loss: 0.3555 - 9ms/epoch - 5ms/step\n",
            "Epoch 98/100\n",
            "2/2 - 0s - loss: 0.3538 - 7ms/epoch - 4ms/step\n",
            "Epoch 99/100\n",
            "2/2 - 0s - loss: 0.3522 - 7ms/epoch - 3ms/step\n",
            "Epoch 100/100\n",
            "2/2 - 0s - loss: 0.3506 - 7ms/epoch - 3ms/step\n"
          ]
        },
        {
          "output_type": "execute_result",
          "data": {
            "text/plain": [
              "<keras.callbacks.History at 0x7efc1a3f4450>"
            ]
          },
          "metadata": {},
          "execution_count": 108
        }
      ]
    },
    {
      "cell_type": "code",
      "metadata": {
        "id": "7QErUn5JltT-"
      },
      "source": [
        "trainPredict= model.predict(trainX)\n",
        "testPredict=model.predict(testX)\n",
        "#invert prediction\n",
        "trainPredict=scalar.inverse_transform(trainPredict)\n",
        "\n",
        "trainY=scalar.inverse_transform([trainY])\n",
        "testPredict=scalar.inverse_transform(testPredict)\n",
        "testY=scalar.inverse_transform([testY]) "
      ],
      "execution_count": null,
      "outputs": []
    },
    {
      "cell_type": "code",
      "metadata": {
        "colab": {
          "base_uri": "https://localhost:8080/",
          "height": 300
        },
        "id": "jHvjjsxujgkW",
        "outputId": "f5c91fc2-0878-412c-d528-dd9db27d65a5"
      },
      "source": [
        "trainScore= math.sqrt(mean_squared_error(trainY[0],trainPredict[:,0]))\n",
        "print('Train Score: %.2f RMSE' %(trainScore))\n",
        "testScore=math.sqrt(mean_squared_error(testY[0],testPredict[:,0]))\n",
        "print('Test Score :%.2f RMSE'% (testScore))\n",
        "trainPredictPlot=numpy.empty_like(dataset)\n",
        "trainPredictPlot[:,:]=numpy.nan\n",
        "trainPredictPlot[look_back:len(trainPredict)+look_back,:]=trainPredict\n",
        "\n",
        "testPredicdtPlot=numpy.empty_like(dataset)\n",
        "testPredicdtPlot[:,:]=numpy.nan\n",
        "testPredicdtPlot[len(trainPredict)+(look_back*2)+1:len(dataset)-1, :]=testPredict\n",
        "\n",
        "plt.plot(scalar.inverse_transform(dataset))\n",
        "plt.plot(trainPredictPlot)\n",
        "plt.plot(testPredicdtPlot)\n",
        "plt.show()"
      ],
      "execution_count": null,
      "outputs": [
        {
          "output_type": "stream",
          "name": "stdout",
          "text": [
            "Train Score: 0.59 RMSE\n",
            "Test Score :0.85 RMSE\n"
          ]
        },
        {
          "output_type": "display_data",
          "data": {
            "image/png": "[encoded data removed]",
            "text/plain": [
              "<Figure size 432x288 with 1 Axes>"
            ]
          },
          "metadata": {
            "needs_background": "light"
          }
        }
      ]
    },
    {
      "cell_type": "code",
      "metadata": {
        "id": "fAeR-OvakxpX"
      },
      "source": [
        ""
      ],
      "execution_count": null,
      "outputs": []
    }
  ]
}